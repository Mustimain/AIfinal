{
 "cells": [
  {
   "cell_type": "code",
   "execution_count": 83,
   "id": "27ce7b4c-5214-4346-bebf-a34b69e99cfe",
   "metadata": {
    "ExecuteTime": {
     "end_time": "2024-05-03T20:34:10.705559Z",
     "start_time": "2024-05-03T20:34:10.695427Z"
    }
   },
   "outputs": [],
   "source": [
    "import pandas as pd\n",
    "import sns\n",
    "from tensorflow.keras.layers import Dense, LSTM, Embedding, Bidirectional\n",
    "\n",
    "\n",
    "# Modelling\n",
    "from sklearn.model_selection import train_test_split,KFold, GridSearchCV\n",
    "\n",
    "from nltk.corpus import stopwords\n"
   ]
  },
  {
   "cell_type": "code",
   "outputs": [
    {
     "name": "stdout",
     "output_type": "stream",
     "text": [
      "                                                Text  Emotion\n",
      "0                          her yeni gün bir mutluluk    Mutlu\n",
      "1  gece kimsenin olmadığı sokaklardan geçerken ço...    Korku\n",
      "2                           gerçekleşemeyen hayaller  Sinirli\n",
      "3                      arkadaş kaybetmek beni üzüyor   Üzüntü\n",
      "4       insanların çıkarcı olmalarından tiksiniyorum   İğrenç\n",
      "(27350, 2)\n"
     ]
    }
   ],
   "source": [
    "\n",
    "# CSV dosyasının bulunduğu yol veya URL\n",
    "file_path = '/Users/musti/Desktop/AIfinal/emotionsdata.csv'\n",
    "\n",
    "# CSV dosyasını oku ve bir DataFrame'e yükle\n",
    "data = pd.read_csv(file_path, names=['Text', 'Emotion'], sep=',')\n",
    "\n",
    "# Sütun isimlerini düzenle\n",
    "data.columns = ['Text', 'Emotion']\n",
    "\n",
    "# İlk 5 veriyi gösterme\n",
    "print(data.head())\n",
    "\n",
    "# Satır ve Stün sayılarını gösteriyor\n",
    "print(data.shape)"
   ],
   "metadata": {
    "collapsed": false,
    "ExecuteTime": {
     "end_time": "2024-05-03T20:34:11.538724Z",
     "start_time": "2024-05-03T20:34:11.483119Z"
    }
   },
   "id": "871df94bda5c640",
   "execution_count": 84
  },
  {
   "cell_type": "code",
   "outputs": [
    {
     "name": "stdout",
     "output_type": "stream",
     "text": [
      "Text       0\n",
      "Emotion    0\n",
      "dtype: int64\n",
      "2129\n"
     ]
    }
   ],
   "source": [
    "# Null veya Tekrarlanan değerli gösterme\n",
    "print(data.isnull().sum())\n",
    "print( data.duplicated().sum())"
   ],
   "metadata": {
    "collapsed": false,
    "ExecuteTime": {
     "end_time": "2024-05-03T20:34:12.327620Z",
     "start_time": "2024-05-03T20:34:12.283179Z"
    }
   },
   "id": "c3483942357d0e66",
   "execution_count": 85
  },
  {
   "cell_type": "code",
   "outputs": [
    {
     "data": {
      "text/plain": "Emotion\nMutlu      4700\nÜzüntü     4664\nSinirli    4636\nKorku      4616\nİğrenç     4522\nSüpriz     4212\nName: count, dtype: int64"
     },
     "execution_count": 90,
     "metadata": {},
     "output_type": "execute_result"
    }
   ],
   "source": [
    "# Hangi özellikten kaç adet veri olduğunu gösteriyor\n",
    "data.Emotion.value_counts()\n"
   ],
   "metadata": {
    "collapsed": false,
    "ExecuteTime": {
     "end_time": "2024-05-03T20:36:36.548026Z",
     "start_time": "2024-05-03T20:36:36.530878Z"
    }
   },
   "id": "247074632c40e2d7",
   "execution_count": 90
  },
  {
   "cell_type": "code",
   "outputs": [],
   "source": [
    "# Verileri test ve train olarak yüzde 80 e 20 şeklinde ayırma\n",
    "\n",
    "X = data['Text']\n",
    "y = data['Emotion']\n",
    "\n",
    "X_train, X_test, y_train, y_test = train_test_split(X, y, test_size=0.2, random_state=42)\n"
   ],
   "metadata": {
    "collapsed": false,
    "ExecuteTime": {
     "end_time": "2024-05-03T20:34:14.036625Z",
     "start_time": "2024-05-03T20:34:14.007527Z"
    }
   },
   "id": "c372f136534d70a1",
   "execution_count": 86
  },
  {
   "cell_type": "code",
   "outputs": [
    {
     "name": "stdout",
     "output_type": "stream",
     "text": [
      "Eğitim veri seti boyutu (X_train): (21880,)\n",
      "Eğitim veri seti boyutu (y_train): (21880,)\n",
      "Test veri seti boyutu (X_test): (5470,)\n",
      "Test veri seti boyutu (y_test): (5470,)\n"
     ]
    }
   ],
   "source": [
    "print(\"Eğitim veri seti boyutu (X_train):\", X_train.shape)\n",
    "print(\"Eğitim veri seti boyutu (y_train):\", y_train.shape)\n",
    "print(\"Test veri seti boyutu (X_test):\", X_test.shape)\n",
    "print(\"Test veri seti boyutu (y_test):\", y_test.shape)"
   ],
   "metadata": {
    "collapsed": false,
    "ExecuteTime": {
     "end_time": "2024-05-03T20:34:14.696733Z",
     "start_time": "2024-05-03T20:34:14.693882Z"
    }
   },
   "id": "9f7ea8e31f6346cc",
   "execution_count": 87
  },
  {
   "cell_type": "code",
   "outputs": [
    {
     "data": {
      "text/plain": "Emotion\nMutlu      17.184644\nÜzüntü     17.053016\nSinirli    16.950640\nKorku      16.877514\nİğrenç     16.533821\nSüpriz     15.400366\nName: count, dtype: float64"
     },
     "execution_count": 91,
     "metadata": {},
     "output_type": "execute_result"
    }
   ],
   "source": [
    "# Verilerin dengeli olup olmadığını kontrol etme\n",
    "\n",
    "data.Emotion.value_counts() / data.shape[0] *100\n"
   ],
   "metadata": {
    "collapsed": false,
    "ExecuteTime": {
     "end_time": "2024-05-03T20:38:08.627418Z",
     "start_time": "2024-05-03T20:38:08.588461Z"
    }
   },
   "id": "2b0240c24e884dd6",
   "execution_count": 91
  },
  {
   "cell_type": "code",
   "outputs": [
    {
     "data": {
      "text/plain": "<Figure size 800x400 with 1 Axes>",
      "image/png": "[encoded data removed]"
     },
     "metadata": {},
     "output_type": "display_data"
    }
   ],
   "source": [
    "import seaborn as sns\n",
    "import matplotlib.pyplot as plt\n",
    "\n",
    "plt.figure(figsize=(8,4))\n",
    "sns.countplot(x='Emotion', data=data);"
   ],
   "metadata": {
    "collapsed": false,
    "ExecuteTime": {
     "end_time": "2024-05-03T20:39:44.733206Z",
     "start_time": "2024-05-03T20:39:44.445885Z"
    }
   },
   "id": "74a1288d2b720ffc",
   "execution_count": 92
  },
  {
   "cell_type": "code",
   "outputs": [],
   "source": [],
   "metadata": {
    "collapsed": false
   },
   "id": "bf44da6662320b04"
  }
 ],
 "metadata": {
  "kernelspec": {
   "display_name": "Python 3 (ipykernel)",
   "language": "python",
   "name": "python3"
  },
  "language_info": {
   "codemirror_mode": {
    "name": "ipython",
    "version": 3
   },
   "file_extension": ".py",
   "mimetype": "text/x-python",
   "name": "python",
   "nbconvert_exporter": "python",
   "pygments_lexer": "ipython3",
   "version": "3.12.1"
  }
 },
 "nbformat": 4,
 "nbformat_minor": 5
}
