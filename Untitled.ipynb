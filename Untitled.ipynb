{
 "cells": [
  {
   "cell_type": "code",
   "execution_count": 24,
   "id": "27ce7b4c-5214-4346-bebf-a34b69e99cfe",
   "metadata": {
    "ExecuteTime": {
     "end_time": "2024-05-10T21:09:31.968633Z",
     "start_time": "2024-05-10T21:09:31.960093Z"
    }
   },
   "outputs": [],
   "source": [
    "import re\n",
    "import nltk\n",
    "import string\n",
    "import numpy as np\n",
    "import pandas as pd\n",
    "import seaborn as sns\n",
    "import matplotlib.pyplot as plt\n",
    "from nltk.corpus import stopwords\n",
    "from nltk.stem import SnowballStemmer, WordNetLemmatizer\n",
    "from sklearn.feature_extraction.text import TfidfVectorizer\n",
    "\n",
    "# Modelling\n",
    "from tensorflow.keras.utils import to_categorical\n",
    "from sklearn.preprocessing import LabelEncoder\n",
    "from sklearn.model_selection import train_test_split\n",
    "\n",
    "from tensorflow.keras.optimizers import Adam\n",
    "from tensorflow.keras.models import Sequential\n",
    "\n",
    "from tensorflow.keras.layers import Dense, LSTM, Embedding, Bidirectional\n",
    "\n",
    "\n",
    "# Modelling\n",
    "from sklearn.model_selection import train_test_split,KFold, GridSearchCV\n",
    "from sklearn.ensemble import RandomForestClassifier\n",
    "from sklearn.linear_model import LogisticRegression\n",
    "from sklearn.tree import DecisionTreeClassifier\n",
    "from sklearn.ensemble import RandomForestClassifier\n",
    "from sklearn.metrics import accuracy_score,confusion_matrix, classification_report\n",
    "from sklearn.pipeline import Pipeline\n",
    "from sklearn.metrics import f1_score\n",
    "from sklearn.svm import SVC\n",
    "\n",
    "lemmatizer= WordNetLemmatizer()"
   ]
  },
  {
   "cell_type": "code",
   "outputs": [
    {
     "name": "stdout",
     "output_type": "stream",
     "text": [
      "                                                Text  Emotion\n",
      "0                          her yeni gün bir mutluluk    Mutlu\n",
      "1  gece kimsenin olmadığı sokaklardan geçerken ço...    Korku\n",
      "2                           gerçekleşemeyen hayaller  Sinirli\n",
      "3                      arkadaş kaybetmek beni üzüyor   Üzüntü\n",
      "4       insanların çıkarcı olmalarından tiksiniyorum   İğrenç\n",
      "(27350, 2)\n"
     ]
    }
   ],
   "source": [
    "\n",
    "# CSV dosyasının bulunduğu yol veya URL\n",
    "train_file_path = '/Users/musti/Desktop/AIfinalProject/emotionsdata_train.csv'\n",
    "#test_file_path = '/Users/musti/Desktop/AIfinalProject/emotionsdata_test..csv'\n",
    "\n",
    "# CSV dosyasını oku ve bir DataFrame'e yükle\n",
    "train_data = pd.read_csv(train_file_path, names=['Text', 'Emotion'], sep=',')\n",
    "#test_data = pd.read_csv(test_file_path, names=['Text', 'Emotion'], sep=',')\n",
    "\n",
    "# Sütun isimlerini düzenle\n",
    "train_data.columns = ['Text', 'Emotion']\n",
    "#test_data.columns = ['Text', 'Emotion']\n",
    "\n",
    "# İlk 5 veriyi gösterme\n",
    "print(train_data.head())\n",
    "#print(test_data.head())\n",
    "\n",
    "# Satır ve Stün sayılarını gösteriyor\n",
    "print(train_data.shape)\n",
    "#print(train_data.shape)"
   ],
   "metadata": {
    "collapsed": false,
    "ExecuteTime": {
     "end_time": "2024-05-10T21:09:32.988416Z",
     "start_time": "2024-05-10T21:09:32.940967Z"
    }
   },
   "id": "871df94bda5c640",
   "execution_count": 25
  },
  {
   "cell_type": "code",
   "outputs": [
    {
     "name": "stdout",
     "output_type": "stream",
     "text": [
      "Text       0\n",
      "Emotion    0\n",
      "dtype: int64\n",
      "2129\n"
     ]
    }
   ],
   "source": [
    "# Null veya Tekrarlanan değerli gösterme\n",
    "print(train_data.isnull().sum())\n",
    "print( train_data.duplicated().sum())\n",
    "\n",
    "# Null veya Tekrarlanan değerli gösterme\n",
    "# print(test_data.isnull().sum())\n",
    "# print( test_data.duplicated().sum())"
   ],
   "metadata": {
    "collapsed": false,
    "ExecuteTime": {
     "end_time": "2024-05-10T21:09:34.051406Z",
     "start_time": "2024-05-10T21:09:34.028952Z"
    }
   },
   "id": "c3483942357d0e66",
   "execution_count": 26
  },
  {
   "cell_type": "code",
   "outputs": [
    {
     "data": {
      "text/plain": "Emotion\nMutlu      4700\nÜzüntü     4664\nSinirli    4636\nKorku      4616\nİğrenç     4522\nSüpriz     4212\nName: count, dtype: int64"
     },
     "execution_count": 27,
     "metadata": {},
     "output_type": "execute_result"
    }
   ],
   "source": [
    "# Hangi özellikten kaç adet veri olduğunu gösteriyor\n",
    "train_data.Emotion.value_counts()\n",
    "# test_data.Emotion.value_counts()\n"
   ],
   "metadata": {
    "collapsed": false,
    "ExecuteTime": {
     "end_time": "2024-05-10T21:09:34.927819Z",
     "start_time": "2024-05-10T21:09:34.901902Z"
    }
   },
   "id": "247074632c40e2d7",
   "execution_count": 27
  },
  {
   "cell_type": "code",
   "outputs": [],
   "source": [
    "import pandas as pd\n",
    "import re\n",
    "\n",
    "def lemmatization(text):\n",
    "    lemmatizer = WordNetLemmatizer()\n",
    "    text = text.split()\n",
    "    text = [lemmatizer.lemmatize(y) for y in text]\n",
    "    return \" \".join(text)\n",
    "\n",
    "def remove_numbers(text):\n",
    "    text = ''.join([i for i in text if not i.isdigit()])\n",
    "    return text\n",
    "\n",
    "def lower_case(text):\n",
    "    text = text.split()\n",
    "    text = [y.lower() for y in text]\n",
    "    return \" \".join(text)\n",
    "\n",
    "def remove_punctuations(text):\n",
    "    text = re.sub(r'[%\\s!\"#$%&\\'()*+,،.-/:;<=>؟?@[\\]^_`{|}~]', ' ', text)\n",
    "    text = text.replace('؛', \"\", )\n",
    "    text = re.sub(r'\\s+', ' ', text)\n",
    "    text = \" \".join(text.split())\n",
    "    return text.strip()\n",
    "\n",
    "def remove_small_sentences(df):\n",
    "    for i in range(len(df)):\n",
    "        if len(df.text.iloc[i].split()) < 3:\n",
    "            df.text.iloc[i] = np.nan\n",
    "\n",
    "def normalize_text(df):\n",
    "    df['Text'] = df['Text'].apply(lower_case)\n",
    "    df['Text'] = df['Text'].apply(remove_numbers)\n",
    "    df['Text'] = df['Text'].apply(remove_punctuations)\n",
    "    df['Text'] = df['Text'].apply(lemmatization)\n",
    "    return df\n",
    "\n",
    "def normalized_sentence(sentence):\n",
    "    sentence = lower_case(sentence)\n",
    "    sentence = remove_numbers(sentence)\n",
    "    sentence = remove_punctuations(sentence)\n",
    "    sentence = lemmatization(sentence)\n",
    "    return sentence\n"
   ],
   "metadata": {
    "collapsed": false,
    "ExecuteTime": {
     "end_time": "2024-05-10T21:09:35.786191Z",
     "start_time": "2024-05-10T21:09:35.781598Z"
    }
   },
   "id": "eb51498ff6cfdcfe",
   "execution_count": 28
  },
  {
   "cell_type": "code",
   "outputs": [],
   "source": [
    "#import nltk\n",
    "#nltk.download('wordnet')\n"
   ],
   "metadata": {
    "collapsed": false,
    "ExecuteTime": {
     "end_time": "2024-05-10T21:09:37.242411Z",
     "start_time": "2024-05-10T21:09:37.239861Z"
    }
   },
   "id": "88c0587475eb14f3",
   "execution_count": 29
  },
  {
   "cell_type": "code",
   "outputs": [],
   "source": [
    "trainDataResult = normalize_text(train_data)\n",
    "# testDataResult = normalize_text(test_data)\n"
   ],
   "metadata": {
    "collapsed": false,
    "ExecuteTime": {
     "end_time": "2024-05-10T21:09:38.720315Z",
     "start_time": "2024-05-10T21:09:38.037339Z"
    }
   },
   "id": "e296fdcb9c407f06",
   "execution_count": 30
  },
  {
   "cell_type": "code",
   "outputs": [
    {
     "name": "stdout",
     "output_type": "stream",
     "text": [
      "                                                Text  Emotion\n",
      "0                          her yeni gün bir mutluluk    Mutlu\n",
      "1  gece kimsenin olmadığı sokaklardan geçerken ço...    Korku\n",
      "2                           gerçekleşemeyen hayaller  Sinirli\n",
      "3                      arkadaş kaybetmek beni üzüyor   Üzüntü\n",
      "4       insanların çıkarcı olmalarından tiksiniyorum   İğrenç\n"
     ]
    }
   ],
   "source": [
    "print(trainDataResult.head())\n",
    "# print(testDataResult.head())\n"
   ],
   "metadata": {
    "collapsed": false,
    "ExecuteTime": {
     "end_time": "2024-05-10T21:09:38.747558Z",
     "start_time": "2024-05-10T21:09:38.737949Z"
    }
   },
   "id": "c383b4a501927742",
   "execution_count": 31
  },
  {
   "cell_type": "code",
   "outputs": [],
   "source": [
    "# Verileri test ve train olarak yüzde 80 e 20 şeklinde ayırma\n",
    "\n",
    "X = trainDataResult['Text']\n",
    "y = trainDataResult['Emotion']\n",
    "\n",
    "X_train, X_test, y_train, y_test = train_test_split(X, y, test_size=0.2, random_state=42)\n",
    "\n"
   ],
   "metadata": {
    "collapsed": false,
    "ExecuteTime": {
     "end_time": "2024-05-10T21:09:39.785035Z",
     "start_time": "2024-05-10T21:09:39.744762Z"
    }
   },
   "id": "c372f136534d70a1",
   "execution_count": 32
  },
  {
   "cell_type": "code",
   "outputs": [
    {
     "name": "stdout",
     "output_type": "stream",
     "text": [
      "Eğitim veri seti boyutu (X_train): (21880,)\n",
      "Eğitim veri seti boyutu (y_train): (21880,)\n",
      "Test veri seti boyutu (X_test): (5470,)\n",
      "Test veri seti boyutu (y_test): (5470,)\n"
     ]
    }
   ],
   "source": [
    "print(\"Eğitim veri seti boyutu (X_train):\", X_train.shape)\n",
    "print(\"Eğitim veri seti boyutu (y_train):\", y_train.shape)\n",
    "print(\"Test veri seti boyutu (X_test):\", X_test.shape)\n",
    "print(\"Test veri seti boyutu (y_test):\", y_test.shape)"
   ],
   "metadata": {
    "collapsed": false,
    "ExecuteTime": {
     "end_time": "2024-05-10T21:09:40.892684Z",
     "start_time": "2024-05-10T21:09:40.887987Z"
    }
   },
   "id": "9f7ea8e31f6346cc",
   "execution_count": 33
  },
  {
   "cell_type": "code",
   "outputs": [
    {
     "data": {
      "text/plain": "Emotion\nMutlu      17.184644\nÜzüntü     17.053016\nSinirli    16.950640\nKorku      16.877514\nİğrenç     16.533821\nSüpriz     15.400366\nName: count, dtype: float64"
     },
     "execution_count": 34,
     "metadata": {},
     "output_type": "execute_result"
    }
   ],
   "source": [
    "# Verilerin dengeli olup olmadığını kontrol etme\n",
    "\n",
    "trainDataResult.Emotion.value_counts() / trainDataResult.shape[0] *100\n"
   ],
   "metadata": {
    "collapsed": false,
    "ExecuteTime": {
     "end_time": "2024-05-10T21:09:42.420910Z",
     "start_time": "2024-05-10T21:09:42.410569Z"
    }
   },
   "id": "2b0240c24e884dd6",
   "execution_count": 34
  },
  {
   "cell_type": "code",
   "outputs": [
    {
     "data": {
      "text/plain": "<Figure size 800x400 with 1 Axes>",
      "image/png": "[encoded data removed]"
     },
     "metadata": {},
     "output_type": "display_data"
    }
   ],
   "source": [
    "import seaborn as sns\n",
    "import matplotlib.pyplot as plt\n",
    "\n",
    "plt.figure(figsize=(8,4))\n",
    "sns.countplot(x='Emotion', data=trainDataResult);"
   ],
   "metadata": {
    "collapsed": false,
    "ExecuteTime": {
     "end_time": "2024-05-10T21:09:43.516246Z",
     "start_time": "2024-05-10T21:09:43.396677Z"
    }
   },
   "id": "74a1288d2b720ffc",
   "execution_count": 35
  },
  {
   "cell_type": "code",
   "outputs": [],
   "source": [
    "def train_model(model, data, targets):\n",
    "    \"\"\"\n",
    "    Train a model on the given data and targets.\n",
    "    \n",
    "    Parameters:\n",
    "    model (sklearn model): The model to be trained.\n",
    "    data (list of str): The input data.\n",
    "    targets (list of str): The targets.\n",
    "    \n",
    "    Returns:\n",
    "    Pipeline: The trained model as a Pipeline object.\n",
    "    \"\"\"\n",
    "    # Create a Pipeline object with a TfidfVectorizer and the given model\n",
    "    text_clf = Pipeline([('vect',TfidfVectorizer()),\n",
    "                         ('clf', model)])\n",
    "    # Fit the model on the data and targets\n",
    "    text_clf.fit(data, targets)\n",
    "    return text_clf"
   ],
   "metadata": {
    "collapsed": false,
    "ExecuteTime": {
     "end_time": "2024-05-10T21:09:44.895856Z",
     "start_time": "2024-05-10T21:09:44.892556Z"
    }
   },
   "id": "bf44da6662320b04",
   "execution_count": 36
  },
  {
   "cell_type": "code",
   "outputs": [],
   "source": [
    "def get_F1(trained_model,X,y):\n",
    "    \"\"\"\n",
    "    Get the F1 score for the given model on the given data and targets.\n",
    "    \n",
    "    Parameters:\n",
    "    trained_model (sklearn model): The trained model.\n",
    "    X (list of str): The input data.\n",
    "    y (list of str): The targets.\n",
    "    \n",
    "    Returns:\n",
    "    array: The F1 score for each class.\n",
    "    \"\"\"\n",
    "    # Make predictions on the input data using the trained model\n",
    "    predicted=trained_model.predict(X)\n",
    "    # Calculate the F1 score for the predictions\n",
    "    f1=f1_score(y,predicted, average=None)\n",
    "    # Return the F1 score\n",
    "    return f1"
   ],
   "metadata": {
    "collapsed": false,
    "ExecuteTime": {
     "end_time": "2024-05-10T21:09:45.859649Z",
     "start_time": "2024-05-10T21:09:45.852752Z"
    }
   },
   "id": "9144892f2c668d67",
   "execution_count": 37
  },
  {
   "cell_type": "code",
   "outputs": [],
   "source": [
    "log_reg = train_model(LogisticRegression(solver='liblinear',random_state = 0), X_train, y_train)\n"
   ],
   "metadata": {
    "collapsed": false,
    "ExecuteTime": {
     "end_time": "2024-05-10T21:09:48.578499Z",
     "start_time": "2024-05-10T21:09:46.903137Z"
    }
   },
   "id": "6d1e365f2bc03f9f",
   "execution_count": 38
  },
  {
   "cell_type": "code",
   "outputs": [
    {
     "data": {
      "text/plain": "array(['Korku'], dtype=object)"
     },
     "execution_count": 39,
     "metadata": {},
     "output_type": "execute_result"
    }
   ],
   "source": [
    "y_pred=log_reg.predict(['yarın okulda ödevim var'])\n",
    "y_pred"
   ],
   "metadata": {
    "collapsed": false,
    "ExecuteTime": {
     "end_time": "2024-05-10T21:09:49.218243Z",
     "start_time": "2024-05-10T21:09:49.202863Z"
    }
   },
   "id": "f35bba932e3ffdd3",
   "execution_count": 39
  },
  {
   "cell_type": "code",
   "outputs": [
    {
     "name": "stdout",
     "output_type": "stream",
     "text": [
      "Accuracy:  0.8076782449725777 \n"
     ]
    },
    {
     "data": {
      "text/plain": "         F1 score\nMutlu    0.839315\nKorku    0.821064\nSinirli  0.786403\nÜzüntü   0.779348\nİğrenç   0.773913\nSüpriz   0.844809",
      "text/html": "<div>\n<style scoped>\n    .dataframe tbody tr th:only-of-type {\n        vertical-align: middle;\n    }\n\n    .dataframe tbody tr th {\n        vertical-align: top;\n    }\n\n    .dataframe thead th {\n        text-align: right;\n    }\n</style>\n<table border=\"1\" class=\"dataframe\">\n  <thead>\n    <tr style=\"text-align: right;\">\n      <th></th>\n      <th>F1 score</th>\n    </tr>\n  </thead>\n  <tbody>\n    <tr>\n      <th>Mutlu</th>\n      <td>0.839315</td>\n    </tr>\n    <tr>\n      <th>Korku</th>\n      <td>0.821064</td>\n    </tr>\n    <tr>\n      <th>Sinirli</th>\n      <td>0.786403</td>\n    </tr>\n    <tr>\n      <th>Üzüntü</th>\n      <td>0.779348</td>\n    </tr>\n    <tr>\n      <th>İğrenç</th>\n      <td>0.773913</td>\n    </tr>\n    <tr>\n      <th>Süpriz</th>\n      <td>0.844809</td>\n    </tr>\n  </tbody>\n</table>\n</div>"
     },
     "execution_count": 40,
     "metadata": {},
     "output_type": "execute_result"
    }
   ],
   "source": [
    "y_pred=log_reg.predict(X_test)\n",
    "\n",
    "#calculate the accuracy\n",
    "log_reg_accuracy = accuracy_score(y_test, y_pred)\n",
    "print('Accuracy: ', log_reg_accuracy,'\\n')\n",
    "\n",
    "#calculate the F1 score\n",
    "f1_Score = get_F1(log_reg,X_test,y_test)\n",
    "pd.DataFrame(f1_Score, index=trainDataResult.Emotion.unique(), columns=['F1 score'])\n"
   ],
   "metadata": {
    "collapsed": false,
    "ExecuteTime": {
     "end_time": "2024-05-10T21:09:50.458673Z",
     "start_time": "2024-05-10T21:09:50.383458Z"
    }
   },
   "id": "d3fcff09b1187ab0",
   "execution_count": 40
  },
  {
   "cell_type": "code",
   "outputs": [
    {
     "name": "stdout",
     "output_type": "stream",
     "text": [
      "              precision    recall  f1-score   support\n",
      "\n",
      "       Korku       0.86      0.82      0.84       927\n",
      "       Mutlu       0.82      0.83      0.82       925\n",
      "     Sinirli       0.76      0.81      0.79       951\n",
      "      Süpriz       0.81      0.75      0.78       846\n",
      "      Üzüntü       0.79      0.76      0.77       934\n",
      "      İğrenç       0.82      0.87      0.84       887\n",
      "\n",
      "    accuracy                           0.81      5470\n",
      "   macro avg       0.81      0.81      0.81      5470\n",
      "weighted avg       0.81      0.81      0.81      5470\n"
     ]
    }
   ],
   "source": [
    "##Classification Report\n",
    "print(classification_report(y_test, y_pred))\n"
   ],
   "metadata": {
    "collapsed": false,
    "ExecuteTime": {
     "end_time": "2024-05-10T21:09:51.789255Z",
     "start_time": "2024-05-10T21:09:51.653697Z"
    }
   },
   "id": "cf280f558147c2ca",
   "execution_count": 41
  },
  {
   "cell_type": "code",
   "outputs": [
    {
     "name": "stdout",
     "output_type": "stream",
     "text": [
      "Accuracy:  0.7186471663619745 \n"
     ]
    },
    {
     "data": {
      "text/plain": "         F1 score\nMutlu    0.775758\nKorku    0.740374\nSinirli  0.695742\nÜzüntü   0.690621\nİğrenç   0.671781\nSüpriz   0.735632",
      "text/html": "<div>\n<style scoped>\n    .dataframe tbody tr th:only-of-type {\n        vertical-align: middle;\n    }\n\n    .dataframe tbody tr th {\n        vertical-align: top;\n    }\n\n    .dataframe thead th {\n        text-align: right;\n    }\n</style>\n<table border=\"1\" class=\"dataframe\">\n  <thead>\n    <tr style=\"text-align: right;\">\n      <th></th>\n      <th>F1 score</th>\n    </tr>\n  </thead>\n  <tbody>\n    <tr>\n      <th>Mutlu</th>\n      <td>0.775758</td>\n    </tr>\n    <tr>\n      <th>Korku</th>\n      <td>0.740374</td>\n    </tr>\n    <tr>\n      <th>Sinirli</th>\n      <td>0.695742</td>\n    </tr>\n    <tr>\n      <th>Üzüntü</th>\n      <td>0.690621</td>\n    </tr>\n    <tr>\n      <th>İğrenç</th>\n      <td>0.671781</td>\n    </tr>\n    <tr>\n      <th>Süpriz</th>\n      <td>0.735632</td>\n    </tr>\n  </tbody>\n</table>\n</div>"
     },
     "execution_count": 42,
     "metadata": {},
     "output_type": "execute_result"
    }
   ],
   "source": [
    "#Train the model with the training data\n",
    "DT = train_model(DecisionTreeClassifier(random_state = 0), X_train, y_train)\n",
    "\n",
    "#test the model with the test data\n",
    "y_pred=DT.predict(X_test)\n",
    "\n",
    "#calculate the accuracy\n",
    "DT_accuracy = accuracy_score(y_test, y_pred)\n",
    "print('Accuracy: ', DT_accuracy,'\\n')\n",
    "\n",
    "#calculate the F1 score\n",
    "f1_Score = get_F1(DT,X_test,y_test)\n",
    "pd.DataFrame(f1_Score, index=trainDataResult.Emotion.unique(), columns=['F1 score']) "
   ],
   "metadata": {
    "collapsed": false,
    "ExecuteTime": {
     "end_time": "2024-05-10T21:09:55.364524Z",
     "start_time": "2024-05-10T21:09:52.776252Z"
    }
   },
   "id": "813fb41b78f4d503",
   "execution_count": 42
  },
  {
   "cell_type": "code",
   "outputs": [
    {
     "name": "stdout",
     "output_type": "stream",
     "text": [
      "              precision    recall  f1-score   support\n",
      "\n",
      "       Korku       0.79      0.76      0.78       927\n",
      "       Mutlu       0.75      0.73      0.74       925\n",
      "     Sinirli       0.69      0.70      0.70       951\n",
      "      Süpriz       0.71      0.67      0.69       846\n",
      "      Üzüntü       0.69      0.66      0.67       934\n",
      "      İğrenç       0.69      0.79      0.74       887\n",
      "\n",
      "    accuracy                           0.72      5470\n",
      "   macro avg       0.72      0.72      0.72      5470\n",
      "weighted avg       0.72      0.72      0.72      5470\n"
     ]
    }
   ],
   "source": [
    "##Classification Report\n",
    "print(classification_report(y_test, y_pred))"
   ],
   "metadata": {
    "collapsed": false,
    "ExecuteTime": {
     "end_time": "2024-05-10T21:09:56.413727Z",
     "start_time": "2024-05-10T21:09:56.329942Z"
    }
   },
   "id": "2150ef7953e7a2cd",
   "execution_count": 43
  },
  {
   "cell_type": "code",
   "outputs": [
    {
     "name": "stdout",
     "output_type": "stream",
     "text": [
      "Accuracy:  0.8078610603290677 \n"
     ]
    },
    {
     "data": {
      "text/plain": "         F1 score\nMutlu    0.850588\nKorku    0.831299\nSinirli  0.768631\nÜzüntü   0.776628\nİğrenç   0.773645\nSüpriz   0.851664",
      "text/html": "<div>\n<style scoped>\n    .dataframe tbody tr th:only-of-type {\n        vertical-align: middle;\n    }\n\n    .dataframe tbody tr th {\n        vertical-align: top;\n    }\n\n    .dataframe thead th {\n        text-align: right;\n    }\n</style>\n<table border=\"1\" class=\"dataframe\">\n  <thead>\n    <tr style=\"text-align: right;\">\n      <th></th>\n      <th>F1 score</th>\n    </tr>\n  </thead>\n  <tbody>\n    <tr>\n      <th>Mutlu</th>\n      <td>0.850588</td>\n    </tr>\n    <tr>\n      <th>Korku</th>\n      <td>0.831299</td>\n    </tr>\n    <tr>\n      <th>Sinirli</th>\n      <td>0.768631</td>\n    </tr>\n    <tr>\n      <th>Üzüntü</th>\n      <td>0.776628</td>\n    </tr>\n    <tr>\n      <th>İğrenç</th>\n      <td>0.773645</td>\n    </tr>\n    <tr>\n      <th>Süpriz</th>\n      <td>0.851664</td>\n    </tr>\n  </tbody>\n</table>\n</div>"
     },
     "execution_count": 44,
     "metadata": {},
     "output_type": "execute_result"
    }
   ],
   "source": [
    "#Train the model with the training data\n",
    "SVM = train_model(SVC(random_state = 0), X_train, y_train)\n",
    "\n",
    "#test the model with the test data\n",
    "y_pred=SVM.predict(X_test)\n",
    "\n",
    "#calculate the accuracy\n",
    "SVM_accuracy = accuracy_score(y_test, y_pred)\n",
    "print('Accuracy: ', SVM_accuracy,'\\n')\n",
    "\n",
    "#calculate the F1 score\n",
    "f1_Score = get_F1(SVM,X_test,y_test)\n",
    "pd.DataFrame(f1_Score, index=trainDataResult.Emotion.unique(), columns=['F1 score']) "
   ],
   "metadata": {
    "collapsed": false,
    "ExecuteTime": {
     "end_time": "2024-05-10T21:10:28.543020Z",
     "start_time": "2024-05-10T21:09:57.584706Z"
    }
   },
   "id": "e9ac57b4bf925030",
   "execution_count": 44
  },
  {
   "cell_type": "code",
   "outputs": [
    {
     "name": "stdout",
     "output_type": "stream",
     "text": [
      "              precision    recall  f1-score   support\n",
      "\n",
      "       Korku       0.88      0.82      0.85       927\n",
      "       Mutlu       0.85      0.81      0.83       925\n",
      "     Sinirli       0.72      0.83      0.77       951\n",
      "      Süpriz       0.80      0.75      0.78       846\n",
      "      Üzüntü       0.77      0.78      0.77       934\n",
      "      İğrenç       0.85      0.85      0.85       887\n",
      "\n",
      "    accuracy                           0.81      5470\n",
      "   macro avg       0.81      0.81      0.81      5470\n",
      "weighted avg       0.81      0.81      0.81      5470\n"
     ]
    }
   ],
   "source": [
    "##Classification Report\n",
    "print(classification_report(y_test, y_pred))\n"
   ],
   "metadata": {
    "collapsed": false,
    "ExecuteTime": {
     "end_time": "2024-05-10T21:10:28.619949Z",
     "start_time": "2024-05-10T21:10:28.544656Z"
    }
   },
   "id": "55dc52509e36cd2e",
   "execution_count": 45
  },
  {
   "cell_type": "code",
   "outputs": [
    {
     "name": "stdout",
     "output_type": "stream",
     "text": [
      "Accuracy:  0.770018281535649 \n"
     ]
    },
    {
     "data": {
      "text/plain": "         F1 score\nMutlu    0.818383\nKorku    0.773564\nSinirli  0.755195\nÜzüntü   0.737101\nİğrenç   0.737613\nSüpriz   0.794349",
      "text/html": "<div>\n<style scoped>\n    .dataframe tbody tr th:only-of-type {\n        vertical-align: middle;\n    }\n\n    .dataframe tbody tr th {\n        vertical-align: top;\n    }\n\n    .dataframe thead th {\n        text-align: right;\n    }\n</style>\n<table border=\"1\" class=\"dataframe\">\n  <thead>\n    <tr style=\"text-align: right;\">\n      <th></th>\n      <th>F1 score</th>\n    </tr>\n  </thead>\n  <tbody>\n    <tr>\n      <th>Mutlu</th>\n      <td>0.818383</td>\n    </tr>\n    <tr>\n      <th>Korku</th>\n      <td>0.773564</td>\n    </tr>\n    <tr>\n      <th>Sinirli</th>\n      <td>0.755195</td>\n    </tr>\n    <tr>\n      <th>Üzüntü</th>\n      <td>0.737101</td>\n    </tr>\n    <tr>\n      <th>İğrenç</th>\n      <td>0.737613</td>\n    </tr>\n    <tr>\n      <th>Süpriz</th>\n      <td>0.794349</td>\n    </tr>\n  </tbody>\n</table>\n</div>"
     },
     "execution_count": 46,
     "metadata": {},
     "output_type": "execute_result"
    }
   ],
   "source": [
    "#Train the model with the training data\n",
    "RF = train_model(RandomForestClassifier(random_state = 0), X_train, y_train)\n",
    "\n",
    "#test the model with the test data\n",
    "y_pred=RF.predict(X_test)\n",
    "\n",
    "#calculate the accuracy\n",
    "RF_accuracy = accuracy_score(y_test, y_pred)\n",
    "print('Accuracy: ', RF_accuracy,'\\n')\n",
    "\n",
    "#calculate the F1 score\n",
    "f1_Score = get_F1(RF, X_test, y_test)\n",
    "pd.DataFrame(f1_Score, index=trainDataResult.Emotion.unique(), columns=['F1 score']) "
   ],
   "metadata": {
    "collapsed": false,
    "ExecuteTime": {
     "end_time": "2024-05-10T21:10:50.938487Z",
     "start_time": "2024-05-10T21:10:29.843960Z"
    }
   },
   "id": "90840ff461d1a3f5",
   "execution_count": 46
  },
  {
   "cell_type": "code",
   "outputs": [
    {
     "name": "stdout",
     "output_type": "stream",
     "text": [
      "              precision    recall  f1-score   support\n",
      "\n",
      "       Korku       0.84      0.80      0.82       927\n",
      "       Mutlu       0.78      0.77      0.77       925\n",
      "     Sinirli       0.73      0.78      0.76       951\n",
      "      Süpriz       0.77      0.71      0.74       846\n",
      "      Üzüntü       0.78      0.70      0.74       934\n",
      "      İğrenç       0.74      0.86      0.79       887\n",
      "\n",
      "    accuracy                           0.77      5470\n",
      "   macro avg       0.77      0.77      0.77      5470\n",
      "weighted avg       0.77      0.77      0.77      5470\n"
     ]
    }
   ],
   "source": [
    "##Classification Report\n",
    "print(classification_report(y_test, y_pred))"
   ],
   "metadata": {
    "collapsed": false,
    "ExecuteTime": {
     "end_time": "2024-05-10T21:10:51.011962Z",
     "start_time": "2024-05-10T21:10:50.940100Z"
    }
   },
   "id": "a53a2146182047c1",
   "execution_count": 47
  },
  {
   "cell_type": "code",
   "outputs": [
    {
     "data": {
      "text/plain": "                    Model  Accuracy\n0     Logistic Regression      0.81\n1  Support Vector Machine      0.81\n2           Random Forest      0.77\n3           Decision Tree      0.72",
      "text/html": "<div>\n<style scoped>\n    .dataframe tbody tr th:only-of-type {\n        vertical-align: middle;\n    }\n\n    .dataframe tbody tr th {\n        vertical-align: top;\n    }\n\n    .dataframe thead th {\n        text-align: right;\n    }\n</style>\n<table border=\"1\" class=\"dataframe\">\n  <thead>\n    <tr style=\"text-align: right;\">\n      <th></th>\n      <th>Model</th>\n      <th>Accuracy</th>\n    </tr>\n  </thead>\n  <tbody>\n    <tr>\n      <th>0</th>\n      <td>Logistic Regression</td>\n      <td>0.81</td>\n    </tr>\n    <tr>\n      <th>1</th>\n      <td>Support Vector Machine</td>\n      <td>0.81</td>\n    </tr>\n    <tr>\n      <th>2</th>\n      <td>Random Forest</td>\n      <td>0.77</td>\n    </tr>\n    <tr>\n      <th>3</th>\n      <td>Decision Tree</td>\n      <td>0.72</td>\n    </tr>\n  </tbody>\n</table>\n</div>"
     },
     "execution_count": 48,
     "metadata": {},
     "output_type": "execute_result"
    }
   ],
   "source": [
    "models = pd.DataFrame({\n",
    "    'Model': ['Logistic Regression', 'Decision Tree', 'Support Vector Machine', 'Random Forest'],\n",
    "    'Accuracy': [round(log_reg_accuracy, 2), round(DT_accuracy, 2), round(SVM_accuracy, 2), round(RF_accuracy, 2)]\n",
    "})\n",
    "\n",
    "\n",
    "models.sort_values(by='Accuracy', ascending=False).reset_index().drop(['index'], axis=1)"
   ],
   "metadata": {
    "collapsed": false,
    "ExecuteTime": {
     "end_time": "2024-05-10T21:10:51.018037Z",
     "start_time": "2024-05-10T21:10:51.012664Z"
    }
   },
   "id": "648965c3f7660ba6",
   "execution_count": 48
  },
  {
   "cell_type": "code",
   "outputs": [],
   "source": [
    "le = LabelEncoder()\n",
    "y_train = le.fit_transform(y_train)\n",
    "y_test = le.transform(y_test)"
   ],
   "metadata": {
    "collapsed": false,
    "ExecuteTime": {
     "end_time": "2024-05-10T21:10:52.320833Z",
     "start_time": "2024-05-10T21:10:52.303419Z"
    }
   },
   "id": "e1e63653ecbba027",
   "execution_count": 49
  },
  {
   "cell_type": "code",
   "outputs": [
    {
     "name": "stdout",
     "output_type": "stream",
     "text": [
      "{0, 1, 2, 3, 4, 5}\n"
     ]
    }
   ],
   "source": [
    "print(set(y_train))\n"
   ],
   "metadata": {
    "collapsed": false,
    "ExecuteTime": {
     "end_time": "2024-05-10T20:30:50.183322Z",
     "start_time": "2024-05-10T20:30:50.164939Z"
    }
   },
   "id": "b3165991d3991f40",
   "execution_count": 54
  },
  {
   "cell_type": "code",
   "outputs": [],
   "source": [
    "from tensorflow.keras.utils import to_categorical\n",
    "\n",
    "y_train = to_categorical(y_train)\n",
    "y_test = to_categorical(y_test)"
   ],
   "metadata": {
    "collapsed": false,
    "ExecuteTime": {
     "end_time": "2024-05-10T20:32:06.046190Z",
     "start_time": "2024-05-10T20:32:06.022635Z"
    }
   },
   "id": "59771bd17fc980a6",
   "execution_count": 56
  },
  {
   "cell_type": "code",
   "outputs": [
    {
     "name": "stdout",
     "output_type": "stream",
     "text": [
      "[[0. 1. 0. 0. 0. 0.]\n",
      " [1. 0. 0. 0. 0. 0.]\n",
      " [0. 0. 1. 0. 0. 0.]\n",
      " ...\n",
      " [0. 0. 0. 0. 1. 0.]\n",
      " [0. 0. 0. 0. 0. 1.]\n",
      " [0. 0. 0. 1. 0. 0.]]\n"
     ]
    }
   ],
   "source": [
    "print(y_train)\n"
   ],
   "metadata": {
    "collapsed": false,
    "ExecuteTime": {
     "end_time": "2024-05-10T20:32:21.606417Z",
     "start_time": "2024-05-10T20:32:21.600922Z"
    }
   },
   "id": "4717c9c76f9d8801",
   "execution_count": 57
  },
  {
   "cell_type": "code",
   "outputs": [],
   "source": [
    "from tensorflow.keras.preprocessing.text import Tokenizer\n",
    "from tensorflow.keras.preprocessing.sequence import pad_sequences\n",
    "\n",
    "# Tokenize words\n",
    "tokenizer = Tokenizer(oov_token='UNK')\n",
    "tokenizer.fit_on_texts(pd.concat([X_train, X_test], axis=0))"
   ],
   "metadata": {
    "collapsed": false,
    "ExecuteTime": {
     "end_time": "2024-05-10T20:33:13.454616Z",
     "start_time": "2024-05-10T20:33:12.707007Z"
    }
   },
   "id": "9e8987ff37297180",
   "execution_count": 58
  },
  {
   "cell_type": "code",
   "outputs": [
    {
     "data": {
      "text/plain": "54700"
     },
     "execution_count": 59,
     "metadata": {},
     "output_type": "execute_result"
    }
   ],
   "source": [
    "tokenizer.document_count\n"
   ],
   "metadata": {
    "collapsed": false,
    "ExecuteTime": {
     "end_time": "2024-05-10T20:33:18.653123Z",
     "start_time": "2024-05-10T20:33:18.631667Z"
    }
   },
   "id": "bacff401139081d4",
   "execution_count": 59
  },
  {
   "cell_type": "code",
   "outputs": [
    {
     "data": {
      "text/plain": "7"
     },
     "execution_count": 62,
     "metadata": {},
     "output_type": "execute_result"
    }
   ],
   "source": [
    "# bu kelimeden toklam 7 adet varmış\n",
    "tokenizer.word_index['mutlu']\n"
   ],
   "metadata": {
    "collapsed": false,
    "ExecuteTime": {
     "end_time": "2024-05-10T20:34:10.833550Z",
     "start_time": "2024-05-10T20:34:10.826816Z"
    }
   },
   "id": "d433cbefa31a9415",
   "execution_count": 62
  },
  {
   "cell_type": "code",
   "outputs": [
    {
     "data": {
      "text/plain": "[[31], [130], [63], [3], [368]]"
     },
     "execution_count": 63,
     "metadata": {},
     "output_type": "execute_result"
    }
   ],
   "source": [
    "tokenizer.texts_to_sequences(X_train[0].split())\n"
   ],
   "metadata": {
    "collapsed": false,
    "ExecuteTime": {
     "end_time": "2024-05-10T20:34:37.117202Z",
     "start_time": "2024-05-10T20:34:37.101867Z"
    }
   },
   "id": "7097a170c7e79500",
   "execution_count": 63
  },
  {
   "cell_type": "code",
   "outputs": [
    {
     "data": {
      "text/plain": "array([[0., 0., 0., ..., 0., 0., 0.],\n       [0., 0., 0., ..., 0., 0., 0.],\n       [0., 0., 0., ..., 0., 0., 0.],\n       [0., 0., 0., ..., 0., 0., 0.],\n       [0., 0., 0., ..., 0., 0., 0.]])"
     },
     "execution_count": 64,
     "metadata": {},
     "output_type": "execute_result"
    }
   ],
   "source": [
    "tokenizer.texts_to_matrix(X_train[0].split())\n"
   ],
   "metadata": {
    "collapsed": false,
    "ExecuteTime": {
     "end_time": "2024-05-10T20:34:49.471886Z",
     "start_time": "2024-05-10T20:34:49.452642Z"
    }
   },
   "id": "b8e7735f31b4d583",
   "execution_count": 64
  },
  {
   "cell_type": "code",
   "outputs": [
    {
     "data": {
      "text/plain": "(5, 20980)"
     },
     "execution_count": 65,
     "metadata": {},
     "output_type": "execute_result"
    }
   ],
   "source": [
    "tokenizer.texts_to_matrix(X_train[0].split()).shape\n"
   ],
   "metadata": {
    "collapsed": false,
    "ExecuteTime": {
     "end_time": "2024-05-10T20:34:59.417924Z",
     "start_time": "2024-05-10T20:34:59.407914Z"
    }
   },
   "id": "409040501da389ad",
   "execution_count": 65
  },
  {
   "cell_type": "code",
   "outputs": [],
   "source": [
    "sequences_train = tokenizer.texts_to_sequences(X_train)\n",
    "sequences_test = tokenizer.texts_to_sequences(X_test)"
   ],
   "metadata": {
    "collapsed": false,
    "ExecuteTime": {
     "end_time": "2024-05-10T20:35:06.461879Z",
     "start_time": "2024-05-10T20:35:05.657096Z"
    }
   },
   "id": "6c3a5a2fe150beb4",
   "execution_count": 66
  },
  {
   "cell_type": "code",
   "outputs": [
    {
     "data": {
      "text/plain": "(27350, 2)"
     },
     "execution_count": 68,
     "metadata": {},
     "output_type": "execute_result"
    }
   ],
   "source": [
    "dataResult.shape\n"
   ],
   "metadata": {
    "collapsed": false,
    "ExecuteTime": {
     "end_time": "2024-05-10T20:35:30.984763Z",
     "start_time": "2024-05-10T20:35:30.976412Z"
    }
   },
   "id": "6f2fa3f36483ca53",
   "execution_count": 68
  },
  {
   "cell_type": "code",
   "outputs": [
    {
     "data": {
      "text/plain": "495"
     },
     "execution_count": 70,
     "metadata": {},
     "output_type": "execute_result"
    }
   ],
   "source": [
    "maxlen = max([len(t) for t in dataResult['Text']])\n",
    "maxlen"
   ],
   "metadata": {
    "collapsed": false,
    "ExecuteTime": {
     "end_time": "2024-05-10T20:37:27.308619Z",
     "start_time": "2024-05-10T20:37:27.292128Z"
    }
   },
   "id": "65b925e3631d7cae",
   "execution_count": 70
  },
  {
   "cell_type": "code",
   "outputs": [
    {
     "name": "stdout",
     "output_type": "stream",
     "text": [
      "Vocabulary size = 20980\n"
     ]
    }
   ],
   "source": [
    "X_train = pad_sequences(sequences_train, maxlen=495, truncating='pre')\n",
    "X_test = pad_sequences(sequences_test, maxlen=495, truncating='pre')\n",
    "\n",
    "vocabSize = len(tokenizer.index_word) + 1\n",
    "print(f\"Vocabulary size = {vocabSize}\")\n"
   ],
   "metadata": {
    "collapsed": false,
    "ExecuteTime": {
     "end_time": "2024-05-10T20:38:17.247223Z",
     "start_time": "2024-05-10T20:38:17.112483Z"
    }
   },
   "id": "7e515e5e48629e3",
   "execution_count": 71
  },
  {
   "cell_type": "code",
   "outputs": [
    {
     "data": {
      "text/plain": "[31, 130, 63, 3, 368]"
     },
     "execution_count": 72,
     "metadata": {},
     "output_type": "execute_result"
    }
   ],
   "source": [
    "sequences_train[0]\n"
   ],
   "metadata": {
    "collapsed": false,
    "ExecuteTime": {
     "end_time": "2024-05-10T20:38:24.286689Z",
     "start_time": "2024-05-10T20:38:24.280167Z"
    }
   },
   "id": "62878e6c963e9ea4",
   "execution_count": 72
  },
  {
   "cell_type": "code",
   "outputs": [
    {
     "data": {
      "text/plain": "array([  0,   0,   0,   0,   0,   0,   0,   0,   0,   0,   0,   0,   0,\n         0,   0,   0,   0,   0,   0,   0,   0,   0,   0,   0,   0,   0,\n         0,   0,   0,   0,   0,   0,   0,   0,   0,   0,   0,   0,   0,\n         0,   0,   0,   0,   0,   0,   0,   0,   0,   0,   0,   0,   0,\n         0,   0,   0,   0,   0,   0,   0,   0,   0,   0,   0,   0,   0,\n         0,   0,   0,   0,   0,   0,   0,   0,   0,   0,   0,   0,   0,\n         0,   0,   0,   0,   0,   0,   0,   0,   0,   0,   0,   0,   0,\n         0,   0,   0,   0,   0,   0,   0,   0,   0,   0,   0,   0,   0,\n         0,   0,   0,   0,   0,   0,   0,   0,   0,   0,   0,   0,   0,\n         0,   0,   0,   0,   0,   0,   0,   0,   0,   0,   0,   0,   0,\n         0,   0,   0,   0,   0,   0,   0,   0,   0,   0,   0,   0,   0,\n         0,   0,   0,   0,   0,   0,   0,   0,   0,   0,   0,   0,   0,\n         0,   0,   0,   0,   0,   0,   0,   0,   0,   0,   0,   0,   0,\n         0,   0,   0,   0,   0,   0,   0,   0,   0,   0,   0,   0,   0,\n         0,   0,   0,   0,   0,   0,   0,   0,   0,   0,   0,   0,   0,\n         0,   0,   0,   0,   0,   0,   0,   0,   0,   0,   0,   0,   0,\n         0,   0,   0,   0,   0,   0,   0,   0,   0,   0,   0,   0,   0,\n         0,   0,   0,   0,   0,   0,   0,   0,   0,   0,   0,   0,   0,\n         0,   0,   0,   0,   0,   0,   0,   0,   0,   0,   0,   0,   0,\n         0,   0,   0,   0,   0,   0,   0,   0,   0,   0,   0,   0,   0,\n         0,   0,   0,   0,   0,   0,   0,   0,   0,   0,   0,   0,   0,\n         0,   0,   0,   0,   0,   0,   0,   0,   0,   0,   0,   0,   0,\n         0,   0,   0,   0,   0,   0,   0,   0,   0,   0,   0,   0,   0,\n         0,   0,   0,   0,   0,   0,   0,   0,   0,   0,   0,   0,   0,\n         0,   0,   0,   0,   0,   0,   0,   0,   0,   0,   0,   0,   0,\n         0,   0,   0,   0,   0,   0,   0,   0,   0,   0,   0,   0,   0,\n         0,   0,   0,   0,   0,   0,   0,   0,   0,   0,   0,   0,   0,\n         0,   0,   0,   0,   0,   0,   0,   0,   0,   0,   0,   0,   0,\n         0,   0,   0,   0,   0,   0,   0,   0,   0,   0,   0,   0,   0,\n         0,   0,   0,   0,   0,   0,   0,   0,   0,   0,   0,   0,   0,\n         0,   0,   0,   0,   0,   0,   0,   0,   0,   0,   0,   0,   0,\n         0,   0,   0,   0,   0,   0,   0,   0,   0,   0,   0,   0,   0,\n         0,   0,   0,   0,   0,   0,   0,   0,   0,   0,   0,   0,   0,\n         0,   0,   0,   0,   0,   0,   0,   0,   0,   0,   0,   0,   0,\n         0,   0,   0,   0,   0,   0,   0,   0,   0,   0,   0,   0,   0,\n         0,   0,   0,   0,   0,   0,   0,   0,   0,   0,   0,   0,   0,\n         0,   0,   0,   0,   0,   0,   0,   0,   0,   0,   0,   0,   0,\n         0,   0,   0,   0,   0,   0,   0,   0,   0,  31, 130,  63,   3,\n       368], dtype=int32)"
     },
     "execution_count": 73,
     "metadata": {},
     "output_type": "execute_result"
    }
   ],
   "source": [
    "X_train[0]\n"
   ],
   "metadata": {
    "collapsed": false,
    "ExecuteTime": {
     "end_time": "2024-05-10T20:38:29.444646Z",
     "start_time": "2024-05-10T20:38:29.437594Z"
    }
   },
   "id": "b83161e39f03170f",
   "execution_count": 73
  },
  {
   "cell_type": "code",
   "outputs": [],
   "source": [
    "path_to_glove_file = '/Users/musti/Desktop/AIfinalProject/glove.6B.200d.txt'\n",
    "num_tokens = vocabSize\n",
    "embedding_dim = 200 #latent factors or features  \n",
    "hits = 0\n",
    "misses = 0\n",
    "embeddings_index = {}"
   ],
   "metadata": {
    "collapsed": false,
    "ExecuteTime": {
     "end_time": "2024-05-10T20:39:28.702943Z",
     "start_time": "2024-05-10T20:39:28.697157Z"
    }
   },
   "id": "67302d05aa89806d",
   "execution_count": 74
  },
  {
   "cell_type": "code",
   "outputs": [
    {
     "ename": "FileNotFoundError",
     "evalue": "[Errno 2] No such file or directory: '/Users/musti/Desktop/AIfinalProject/glove.6B.200d.txt'",
     "output_type": "error",
     "traceback": [
      "\u001B[0;31m---------------------------------------------------------------------------\u001B[0m",
      "\u001B[0;31mFileNotFoundError\u001B[0m                         Traceback (most recent call last)",
      "Cell \u001B[0;32mIn[75], line 2\u001B[0m\n\u001B[1;32m      1\u001B[0m \u001B[38;5;66;03m# Read word vectors\u001B[39;00m\n\u001B[0;32m----> 2\u001B[0m \u001B[38;5;28;01mwith\u001B[39;00m \u001B[38;5;28;43mopen\u001B[39;49m\u001B[43m(\u001B[49m\u001B[43mpath_to_glove_file\u001B[49m\u001B[43m)\u001B[49m \u001B[38;5;28;01mas\u001B[39;00m f:\n\u001B[1;32m      3\u001B[0m     \u001B[38;5;28;01mfor\u001B[39;00m line \u001B[38;5;129;01min\u001B[39;00m f:\n\u001B[1;32m      4\u001B[0m         word, coefs \u001B[38;5;241m=\u001B[39m line\u001B[38;5;241m.\u001B[39msplit(maxsplit\u001B[38;5;241m=\u001B[39m\u001B[38;5;241m1\u001B[39m)\n",
      "File \u001B[0;32m/Library/Frameworks/Python.framework/Versions/3.12/lib/python3.12/site-packages/IPython/core/interactiveshell.py:324\u001B[0m, in \u001B[0;36m_modified_open\u001B[0;34m(file, *args, **kwargs)\u001B[0m\n\u001B[1;32m    317\u001B[0m \u001B[38;5;28;01mif\u001B[39;00m file \u001B[38;5;129;01min\u001B[39;00m {\u001B[38;5;241m0\u001B[39m, \u001B[38;5;241m1\u001B[39m, \u001B[38;5;241m2\u001B[39m}:\n\u001B[1;32m    318\u001B[0m     \u001B[38;5;28;01mraise\u001B[39;00m \u001B[38;5;167;01mValueError\u001B[39;00m(\n\u001B[1;32m    319\u001B[0m         \u001B[38;5;124mf\u001B[39m\u001B[38;5;124m\"\u001B[39m\u001B[38;5;124mIPython won\u001B[39m\u001B[38;5;124m'\u001B[39m\u001B[38;5;124mt let you open fd=\u001B[39m\u001B[38;5;132;01m{\u001B[39;00mfile\u001B[38;5;132;01m}\u001B[39;00m\u001B[38;5;124m by default \u001B[39m\u001B[38;5;124m\"\u001B[39m\n\u001B[1;32m    320\u001B[0m         \u001B[38;5;124m\"\u001B[39m\u001B[38;5;124mas it is likely to crash IPython. If you know what you are doing, \u001B[39m\u001B[38;5;124m\"\u001B[39m\n\u001B[1;32m    321\u001B[0m         \u001B[38;5;124m\"\u001B[39m\u001B[38;5;124myou can use builtins\u001B[39m\u001B[38;5;124m'\u001B[39m\u001B[38;5;124m open.\u001B[39m\u001B[38;5;124m\"\u001B[39m\n\u001B[1;32m    322\u001B[0m     )\n\u001B[0;32m--> 324\u001B[0m \u001B[38;5;28;01mreturn\u001B[39;00m \u001B[43mio_open\u001B[49m\u001B[43m(\u001B[49m\u001B[43mfile\u001B[49m\u001B[43m,\u001B[49m\u001B[43m \u001B[49m\u001B[38;5;241;43m*\u001B[39;49m\u001B[43margs\u001B[49m\u001B[43m,\u001B[49m\u001B[43m \u001B[49m\u001B[38;5;241;43m*\u001B[39;49m\u001B[38;5;241;43m*\u001B[39;49m\u001B[43mkwargs\u001B[49m\u001B[43m)\u001B[49m\n",
      "\u001B[0;31mFileNotFoundError\u001B[0m: [Errno 2] No such file or directory: '/Users/musti/Desktop/AIfinalProject/glove.6B.200d.txt'"
     ]
    }
   ],
   "source": [
    "# Read word vectors\n",
    "with open(path_to_glove_file) as f:\n",
    "    for line in f:\n",
    "        word, coefs = line.split(maxsplit=1)\n",
    "        coefs = np.fromstring(coefs, \"f\", sep=\" \")\n",
    "        embeddings_index[word] = coefs\n",
    "print(\"Found %s word vectors.\" % len(embeddings_index))\n",
    "\n",
    "# Assign word vectors to our dictionary/vocabulary\n",
    "embedding_matrix = np.zeros((num_tokens, embedding_dim))\n",
    "for word, i in tokenizer.word_index.items():\n",
    "    embedding_vector = embeddings_index.get(word)\n",
    "    if embedding_vector is not None:\n",
    "        # Words not found in embedding index will be all-zeros.\n",
    "        # This includes the representation for \"padding\" and \"OOV\"\n",
    "        embedding_matrix[i] = embedding_vector\n",
    "        hits += 1\n",
    "    else:\n",
    "        misses += 1\n",
    "print(\"Converted %d words (%d misses)\" % (hits, misses))"
   ],
   "metadata": {
    "collapsed": false,
    "ExecuteTime": {
     "end_time": "2024-05-10T20:39:38.861025Z",
     "start_time": "2024-05-10T20:39:38.733685Z"
    }
   },
   "id": "c5dd4565a8a5e0d4",
   "execution_count": 75
  },
  {
   "cell_type": "code",
   "outputs": [],
   "source": [
    "# Build neural network architecture\n",
    "\n",
    "adam = Adam(learning_rate=0.005)\n",
    "\n",
    "model = Sequential()\n",
    "model.add(Embedding(vocabSize, 200, input_length=X_train.shape[1], weights=[embedding_matrix], trainable=False))\n",
    "model.add(Bidirectional(LSTM(256, dropout=0.2,recurrent_dropout=0.2, return_sequences=True)))\n",
    "model.add(Bidirectional(LSTM(128, dropout=0.2,recurrent_dropout=0.2, return_sequences=True)))\n",
    "model.add(Bidirectional(LSTM(128, dropout=0.2,recurrent_dropout=0.2)))\n",
    "model.add(Dense(6, activation='softmax'))\n",
    "\n",
    "model.compile(loss='categorical_crossentropy', optimizer=adam, metrics=['accuracy'])\n",
    "model.summary()"
   ],
   "metadata": {
    "collapsed": false
   },
   "id": "de67327def68985a"
  },
  {
   "cell_type": "code",
   "outputs": [],
   "source": [
    "from keras.utils.vis_utils import plot_model\n",
    "plot_model(model, show_shapes=True)"
   ],
   "metadata": {
    "collapsed": false
   },
   "id": "eafbb9891b2c8255"
  },
  {
   "cell_type": "code",
   "outputs": [],
   "source": [
    "#to stop the training when the loss starts to increase\n",
    "callback = EarlyStopping(\n",
    "    monitor=\"val_loss\",\n",
    "    patience=4,\n",
    "    restore_best_weights=True,\n",
    ")"
   ],
   "metadata": {
    "collapsed": false
   },
   "id": "c0f33550251db62e"
  },
  {
   "cell_type": "code",
   "outputs": [],
   "source": [
    "# Fit model\n",
    "history = model.fit(X_train,\n",
    "                    y_train,\n",
    "                    validation_data=(X_val, y_val),\n",
    "                    verbose=1,\n",
    "                    batch_size=256,\n",
    "                    epochs=30,\n",
    "                    callbacks=[callback]\n",
    "                   )"
   ],
   "metadata": {
    "collapsed": false
   },
   "id": "1dc9e4dea54dad2f"
  },
  {
   "cell_type": "code",
   "outputs": [],
   "source": [
    "#print the overall loss and accuracy\n",
    "model.evaluate(X_val, y_val, verbose=1) "
   ],
   "metadata": {
    "collapsed": false
   },
   "id": "ba130906b2ca2d1d"
  },
  {
   "cell_type": "code",
   "outputs": [],
   "source": [
    "#print the overall loss and accuracy\n",
    "model.evaluate(X_val, y_val, verbose=1) "
   ],
   "metadata": {
    "collapsed": false
   },
   "id": "2da99cbc5b7bcfc2"
  },
  {
   "cell_type": "code",
   "outputs": [],
   "source": [
    "predicted = model.predict(X_test)\n",
    "y_pred = predicted.argmax(axis=-1)\n",
    "\n",
    "print(classification_report(le.transform(df_test['Emotion']), y_pred))"
   ],
   "metadata": {
    "collapsed": false
   },
   "id": "7a2f061682da9a71"
  },
  {
   "cell_type": "code",
   "outputs": [],
   "source": [
    "# Visualize Loss & Accuracy\n",
    "\n",
    "%matplotlib inline\n",
    "import matplotlib.pyplot as plt\n",
    "acc = history.history['accuracy']\n",
    "val_acc = history.history['val_accuracy']\n",
    "loss = history.history['loss']\n",
    "val_loss = history.history['val_loss']\n",
    "\n",
    "epochs = range(len(acc))\n",
    "\n",
    "plt.plot(epochs, acc, 'r', label='Training accuracy')\n",
    "plt.plot(epochs, val_acc, 'b', label='Validation accuracy')\n",
    "plt.title('Training and validation accuracy')\n",
    "plt.legend()\n",
    "plt.figure()\n",
    "\n",
    "plt.plot(epochs, loss, 'r', label='Training Loss')\n",
    "plt.plot(epochs, val_loss, 'b', label='Validation Loss')\n",
    "plt.title('Training and validation loss')\n",
    "plt.legend()\n",
    "\n",
    "plt.show()"
   ],
   "metadata": {
    "collapsed": false
   },
   "id": "52e3df50acad040a"
  },
  {
   "cell_type": "code",
   "outputs": [],
   "source": [
    "# Classify custom sample\n",
    "\n",
    "sentences = [\n",
    "            \"He's over the moon about being accepted to the university\",\n",
    "            \"Your point on this certain matter made me outrageous, how can you say so? This is insane.\",\n",
    "            \"I can't do it, I'm not ready to lose anything, just leave me alone\",\n",
    "            \"Merlin's beard harry, you can cast the Patronus charm! I'm amazed!\"\n",
    "            ]\n",
    "for sentence in sentences:\n",
    "    print(sentence)\n",
    "    sentence = normalized_sentence(sentence)\n",
    "    sentence = tokenizer.texts_to_sequences([sentence])\n",
    "    sentence = pad_sequences(sentence, maxlen=229, truncating='pre')\n",
    "    result = le.inverse_transform(np.argmax(model.predict(sentence), axis=-1))[0]\n",
    "    proba =  np.max(model.predict(sentence))\n",
    "    print(f\"{result} : {proba}\\n\\n\")\n"
   ],
   "metadata": {
    "collapsed": false
   },
   "id": "fa093dd666030819"
  },
  {
   "cell_type": "code",
   "outputs": [],
   "source": [
    "sentence= 'my old brother is dead'\n",
    "print(sentence)\n",
    "sentence = normalized_sentence(sentence)\n",
    "sentence = tokenizer.texts_to_sequences([sentence])\n",
    "sentence = pad_sequences(sentence, maxlen=229, truncating='pre')\n",
    "result = le.inverse_transform(np.argmax(model.predict(sentence), axis=-1))[0]\n",
    "proba =  np.max(model.predict(sentence))\n",
    "print(f\"{result} : {proba}\\n\\n\")"
   ],
   "metadata": {
    "collapsed": false
   },
   "id": "e251d29651db5da0"
  },
  {
   "cell_type": "code",
   "outputs": [],
   "source": [
    "sentence= 'Im feeling sad today'\n",
    "print(sentence)\n",
    "sentence = normalized_sentence(sentence)\n",
    "sentence = tokenizer.texts_to_sequences([sentence])\n",
    "sentence = pad_sequences(sentence, maxlen=229, truncating='pre')\n",
    "result = le.inverse_transform(np.argmax(model.predict(sentence), axis=-1))[0]\n",
    "proba =  np.max(model.predict(sentence))\n",
    "print(f\"{result} : {proba}\\n\\n\")"
   ],
   "metadata": {
    "collapsed": false
   },
   "id": "909ef97a26813d12"
  },
  {
   "cell_type": "code",
   "outputs": [],
   "source": [
    "model.save('myModel.h5')"
   ],
   "metadata": {
    "collapsed": false
   },
   "id": "4f347c3c30baef58"
  }
 ],
 "metadata": {
  "kernelspec": {
   "display_name": "Python 3 (ipykernel)",
   "language": "python",
   "name": "python3"
  },
  "language_info": {
   "codemirror_mode": {
    "name": "ipython",
    "version": 3
   },
   "file_extension": ".py",
   "mimetype": "text/x-python",
   "name": "python",
   "nbconvert_exporter": "python",
   "pygments_lexer": "ipython3",
   "version": "3.12.1"
  }
 },
 "nbformat": 4,
 "nbformat_minor": 5
}
