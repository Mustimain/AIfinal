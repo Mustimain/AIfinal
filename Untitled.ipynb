{
 "cells": [
  {
   "cell_type": "code",
   "execution_count": 1,
   "id": "27ce7b4c-5214-4346-bebf-a34b69e99cfe",
   "metadata": {
    "ExecuteTime": {
     "end_time": "2024-05-10T13:36:01.059258Z",
     "start_time": "2024-05-10T13:35:44.977319Z"
    }
   },
   "outputs": [],
   "source": [
    "import re\n",
    "import nltk\n",
    "import string\n",
    "import numpy as np\n",
    "import pandas as pd\n",
    "import seaborn as sns\n",
    "import matplotlib.pyplot as plt\n",
    "from nltk.corpus import stopwords\n",
    "from nltk.stem import SnowballStemmer, WordNetLemmatizer\n",
    "from sklearn.feature_extraction.text import TfidfVectorizer\n",
    "\n",
    "# Modelling\n",
    "from sklearn.preprocessing import LabelEncoder\n",
    "from sklearn.model_selection import train_test_split\n",
    "\n",
    "from tensorflow.keras.optimizers import Adam\n",
    "from tensorflow.keras.models import Sequential\n",
    "\n",
    "from tensorflow.keras.layers import Dense, LSTM, Embedding, Bidirectional\n",
    "\n",
    "\n",
    "# Modelling\n",
    "from sklearn.model_selection import train_test_split,KFold, GridSearchCV\n",
    "from sklearn.ensemble import RandomForestClassifier\n",
    "from sklearn.linear_model import LogisticRegression\n",
    "from sklearn.tree import DecisionTreeClassifier\n",
    "from sklearn.ensemble import RandomForestClassifier\n",
    "from sklearn.metrics import accuracy_score,confusion_matrix, classification_report\n",
    "from sklearn.pipeline import Pipeline\n",
    "from sklearn.metrics import f1_score\n",
    "from sklearn.svm import SVC\n",
    "\n",
    "lemmatizer= WordNetLemmatizer()"
   ]
  },
  {
   "cell_type": "code",
   "outputs": [
    {
     "name": "stdout",
     "output_type": "stream",
     "text": [
      "                                                Text  Emotion\n",
      "0                          her yeni gün bir mutluluk    Mutlu\n",
      "1  gece kimsenin olmadığı sokaklardan geçerken ço...    Korku\n",
      "2                           gerçekleşemeyen hayaller  Sinirli\n",
      "3                      arkadaş kaybetmek beni üzüyor   Üzüntü\n",
      "4       insanların çıkarcı olmalarından tiksiniyorum   İğrenç\n",
      "(27350, 2)\n"
     ]
    }
   ],
   "source": [
    "\n",
    "# CSV dosyasının bulunduğu yol veya URL\n",
    "file_path = '/Users/musti/Desktop/AIfinalProject/emotionsdata.csv'\n",
    "\n",
    "# CSV dosyasını oku ve bir DataFrame'e yükle\n",
    "data = pd.read_csv(file_path, names=['Text', 'Emotion'], sep=',')\n",
    "\n",
    "# Sütun isimlerini düzenle\n",
    "data.columns = ['Text', 'Emotion']\n",
    "\n",
    "# İlk 5 veriyi gösterme\n",
    "print(data.head())\n",
    "\n",
    "# Satır ve Stün sayılarını gösteriyor\n",
    "print(data.shape)"
   ],
   "metadata": {
    "collapsed": false,
    "ExecuteTime": {
     "end_time": "2024-05-10T13:36:05.149262Z",
     "start_time": "2024-05-10T13:36:05.080701Z"
    }
   },
   "id": "871df94bda5c640",
   "execution_count": 2
  },
  {
   "cell_type": "code",
   "outputs": [
    {
     "name": "stdout",
     "output_type": "stream",
     "text": [
      "Text       0\n",
      "Emotion    0\n",
      "dtype: int64\n",
      "2129\n"
     ]
    }
   ],
   "source": [
    "# Null veya Tekrarlanan değerli gösterme\n",
    "print(data.isnull().sum())\n",
    "print( data.duplicated().sum())"
   ],
   "metadata": {
    "collapsed": false,
    "ExecuteTime": {
     "end_time": "2024-05-10T13:36:06.642419Z",
     "start_time": "2024-05-10T13:36:06.617024Z"
    }
   },
   "id": "c3483942357d0e66",
   "execution_count": 3
  },
  {
   "cell_type": "code",
   "outputs": [
    {
     "data": {
      "text/plain": "Emotion\nMutlu      4700\nÜzüntü     4664\nSinirli    4636\nKorku      4616\nİğrenç     4522\nSüpriz     4212\nName: count, dtype: int64"
     },
     "execution_count": 4,
     "metadata": {},
     "output_type": "execute_result"
    }
   ],
   "source": [
    "# Hangi özellikten kaç adet veri olduğunu gösteriyor\n",
    "data.Emotion.value_counts()\n"
   ],
   "metadata": {
    "collapsed": false,
    "ExecuteTime": {
     "end_time": "2024-05-10T13:36:08.704557Z",
     "start_time": "2024-05-10T13:36:08.692751Z"
    }
   },
   "id": "247074632c40e2d7",
   "execution_count": 4
  },
  {
   "cell_type": "code",
   "outputs": [],
   "source": [
    "import pandas as pd\n",
    "import re\n",
    "\n",
    "def lemmatization(text):\n",
    "    lemmatizer = WordNetLemmatizer()\n",
    "    text = text.split()\n",
    "    text = [lemmatizer.lemmatize(y) for y in text]\n",
    "    return \" \".join(text)\n",
    "\n",
    "def remove_numbers(text):\n",
    "    text = ''.join([i for i in text if not i.isdigit()])\n",
    "    return text\n",
    "\n",
    "def lower_case(text):\n",
    "    text = text.split()\n",
    "    text = [y.lower() for y in text]\n",
    "    return \" \".join(text)\n",
    "\n",
    "def remove_punctuations(text):\n",
    "    text = re.sub(r'[%\\s!\"#$%&\\'()*+,،.-/:;<=>؟?@[\\]^_`{|}~]', ' ', text)\n",
    "    text = text.replace('؛', \"\", )\n",
    "    text = re.sub(r'\\s+', ' ', text)\n",
    "    text = \" \".join(text.split())\n",
    "    return text.strip()\n",
    "\n",
    "def remove_small_sentences(df):\n",
    "    for i in range(len(df)):\n",
    "        if len(df.text.iloc[i].split()) < 3:\n",
    "            df.text.iloc[i] = np.nan\n",
    "\n",
    "def normalize_text(df):\n",
    "    df['Text'] = df['Text'].apply(lower_case)\n",
    "    df['Text'] = df['Text'].apply(remove_numbers)\n",
    "    df['Text'] = df['Text'].apply(remove_punctuations)\n",
    "    df['Text'] = df['Text'].apply(lemmatization)\n",
    "    return df\n",
    "\n",
    "def normalized_sentence(sentence):\n",
    "    sentence = lower_case(sentence)\n",
    "    sentence = remove_numbers(sentence)\n",
    "    sentence = remove_punctuations(sentence)\n",
    "    sentence = lemmatization(sentence)\n",
    "    return sentence\n"
   ],
   "metadata": {
    "collapsed": false,
    "ExecuteTime": {
     "end_time": "2024-05-10T13:37:29.881184Z",
     "start_time": "2024-05-10T13:37:29.863579Z"
    }
   },
   "id": "eb51498ff6cfdcfe",
   "execution_count": 7
  },
  {
   "cell_type": "code",
   "outputs": [
    {
     "name": "stderr",
     "output_type": "stream",
     "text": [
      "[nltk_data] Downloading package wordnet to /Users/musti/nltk_data...\n",
      "[nltk_data]   Package wordnet is already up-to-date!\n"
     ]
    },
    {
     "data": {
      "text/plain": "True"
     },
     "execution_count": 10,
     "metadata": {},
     "output_type": "execute_result"
    }
   ],
   "source": [
    "import nltk\n",
    "nltk.download('wordnet')\n"
   ],
   "metadata": {
    "collapsed": false,
    "ExecuteTime": {
     "end_time": "2024-05-10T13:38:36.864572Z",
     "start_time": "2024-05-10T13:38:36.809938Z"
    }
   },
   "id": "88c0587475eb14f3",
   "execution_count": 10
  },
  {
   "cell_type": "code",
   "outputs": [],
   "source": [
    "dataResult = normalize_text(data)\n"
   ],
   "metadata": {
    "collapsed": false,
    "ExecuteTime": {
     "end_time": "2024-05-10T13:38:41.953509Z",
     "start_time": "2024-05-10T13:38:41.435724Z"
    }
   },
   "id": "e296fdcb9c407f06",
   "execution_count": 11
  },
  {
   "cell_type": "code",
   "outputs": [
    {
     "name": "stdout",
     "output_type": "stream",
     "text": [
      "                                                Text  Emotion\n",
      "0                          her yeni gün bir mutluluk    Mutlu\n",
      "1  gece kimsenin olmadığı sokaklardan geçerken ço...    Korku\n",
      "2                           gerçekleşemeyen hayaller  Sinirli\n",
      "3                      arkadaş kaybetmek beni üzüyor   Üzüntü\n",
      "4       insanların çıkarcı olmalarından tiksiniyorum   İğrenç\n"
     ]
    }
   ],
   "source": [
    "print(dataResult.head())"
   ],
   "metadata": {
    "collapsed": false,
    "ExecuteTime": {
     "end_time": "2024-05-10T13:39:15.380689Z",
     "start_time": "2024-05-10T13:39:15.342264Z"
    }
   },
   "id": "c383b4a501927742",
   "execution_count": 12
  },
  {
   "cell_type": "code",
   "outputs": [],
   "source": [
    "# Verileri test ve train olarak yüzde 80 e 20 şeklinde ayırma\n",
    "\n",
    "X = dataResult['Text']\n",
    "y = dataResult['Emotion']\n",
    "\n",
    "X_train, X_test, y_train, y_test = train_test_split(X, y, test_size=0.2, random_state=42)\n"
   ],
   "metadata": {
    "collapsed": false,
    "ExecuteTime": {
     "end_time": "2024-05-10T13:39:28.336950Z",
     "start_time": "2024-05-10T13:39:28.320721Z"
    }
   },
   "id": "c372f136534d70a1",
   "execution_count": 13
  },
  {
   "cell_type": "code",
   "outputs": [
    {
     "name": "stdout",
     "output_type": "stream",
     "text": [
      "Eğitim veri seti boyutu (X_train): (21880,)\n",
      "Eğitim veri seti boyutu (y_train): (21880,)\n",
      "Test veri seti boyutu (X_test): (5470,)\n",
      "Test veri seti boyutu (y_test): (5470,)\n"
     ]
    }
   ],
   "source": [
    "print(\"Eğitim veri seti boyutu (X_train):\", X_train.shape)\n",
    "print(\"Eğitim veri seti boyutu (y_train):\", y_train.shape)\n",
    "print(\"Test veri seti boyutu (X_test):\", X_test.shape)\n",
    "print(\"Test veri seti boyutu (y_test):\", y_test.shape)"
   ],
   "metadata": {
    "collapsed": false,
    "ExecuteTime": {
     "end_time": "2024-05-10T13:39:29.298537Z",
     "start_time": "2024-05-10T13:39:29.294436Z"
    }
   },
   "id": "9f7ea8e31f6346cc",
   "execution_count": 14
  },
  {
   "cell_type": "code",
   "outputs": [
    {
     "data": {
      "text/plain": "Emotion\nMutlu      17.184644\nÜzüntü     17.053016\nSinirli    16.950640\nKorku      16.877514\nİğrenç     16.533821\nSüpriz     15.400366\nName: count, dtype: float64"
     },
     "execution_count": 15,
     "metadata": {},
     "output_type": "execute_result"
    }
   ],
   "source": [
    "# Verilerin dengeli olup olmadığını kontrol etme\n",
    "\n",
    "dataResult.Emotion.value_counts() / data.shape[0] *100\n"
   ],
   "metadata": {
    "collapsed": false,
    "ExecuteTime": {
     "end_time": "2024-05-10T13:39:31.881925Z",
     "start_time": "2024-05-10T13:39:31.862475Z"
    }
   },
   "id": "2b0240c24e884dd6",
   "execution_count": 15
  },
  {
   "cell_type": "code",
   "outputs": [
    {
     "data": {
      "text/plain": "<Figure size 800x400 with 1 Axes>",
      "image/png": "[encoded data removed]"
     },
     "metadata": {},
     "output_type": "display_data"
    }
   ],
   "source": [
    "import seaborn as sns\n",
    "import matplotlib.pyplot as plt\n",
    "\n",
    "plt.figure(figsize=(8,4))\n",
    "sns.countplot(x='Emotion', data=dataResult);"
   ],
   "metadata": {
    "collapsed": false,
    "ExecuteTime": {
     "end_time": "2024-05-10T13:39:34.620303Z",
     "start_time": "2024-05-10T13:39:34.309686Z"
    }
   },
   "id": "74a1288d2b720ffc",
   "execution_count": 16
  },
  {
   "cell_type": "code",
   "outputs": [
    {
     "ename": "KeyError",
     "evalue": "'Text'",
     "output_type": "error",
     "traceback": [
      "\u001B[0;31m---------------------------------------------------------------------------\u001B[0m",
      "\u001B[0;31mKeyError\u001B[0m                                  Traceback (most recent call last)",
      "File \u001B[0;32m/Library/Frameworks/Python.framework/Versions/3.12/lib/python3.12/site-packages/pandas/core/indexes/base.py:3805\u001B[0m, in \u001B[0;36mIndex.get_loc\u001B[0;34m(self, key)\u001B[0m\n\u001B[1;32m   3804\u001B[0m \u001B[38;5;28;01mtry\u001B[39;00m:\n\u001B[0;32m-> 3805\u001B[0m     \u001B[38;5;28;01mreturn\u001B[39;00m \u001B[38;5;28;43mself\u001B[39;49m\u001B[38;5;241;43m.\u001B[39;49m\u001B[43m_engine\u001B[49m\u001B[38;5;241;43m.\u001B[39;49m\u001B[43mget_loc\u001B[49m\u001B[43m(\u001B[49m\u001B[43mcasted_key\u001B[49m\u001B[43m)\u001B[49m\n\u001B[1;32m   3806\u001B[0m \u001B[38;5;28;01mexcept\u001B[39;00m \u001B[38;5;167;01mKeyError\u001B[39;00m \u001B[38;5;28;01mas\u001B[39;00m err:\n",
      "File \u001B[0;32mindex.pyx:167\u001B[0m, in \u001B[0;36mpandas._libs.index.IndexEngine.get_loc\u001B[0;34m()\u001B[0m\n",
      "File \u001B[0;32mindex.pyx:175\u001B[0m, in \u001B[0;36mpandas._libs.index.IndexEngine.get_loc\u001B[0;34m()\u001B[0m\n",
      "File \u001B[0;32mpandas/_libs/index_class_helper.pxi:70\u001B[0m, in \u001B[0;36mpandas._libs.index.Int64Engine._check_type\u001B[0;34m()\u001B[0m\n",
      "\u001B[0;31mKeyError\u001B[0m: 'Text'",
      "\nThe above exception was the direct cause of the following exception:\n",
      "\u001B[0;31mKeyError\u001B[0m                                  Traceback (most recent call last)",
      "Cell \u001B[0;32mIn[18], line 1\u001B[0m\n\u001B[0;32m----> 1\u001B[0m X_train \u001B[38;5;241m=\u001B[39m \u001B[43mX_train\u001B[49m\u001B[43m[\u001B[49m\u001B[38;5;124;43m'\u001B[39;49m\u001B[38;5;124;43mText\u001B[39;49m\u001B[38;5;124;43m'\u001B[39;49m\u001B[43m]\u001B[49m\u001B[38;5;241m.\u001B[39mvalues\n\u001B[1;32m      2\u001B[0m y_train \u001B[38;5;241m=\u001B[39m y_train[\u001B[38;5;124m'\u001B[39m\u001B[38;5;124mEmotion\u001B[39m\u001B[38;5;124m'\u001B[39m]\u001B[38;5;241m.\u001B[39mvalues\n",
      "File \u001B[0;32m/Library/Frameworks/Python.framework/Versions/3.12/lib/python3.12/site-packages/pandas/core/series.py:1112\u001B[0m, in \u001B[0;36mSeries.__getitem__\u001B[0;34m(self, key)\u001B[0m\n\u001B[1;32m   1109\u001B[0m     \u001B[38;5;28;01mreturn\u001B[39;00m \u001B[38;5;28mself\u001B[39m\u001B[38;5;241m.\u001B[39m_values[key]\n\u001B[1;32m   1111\u001B[0m \u001B[38;5;28;01melif\u001B[39;00m key_is_scalar:\n\u001B[0;32m-> 1112\u001B[0m     \u001B[38;5;28;01mreturn\u001B[39;00m \u001B[38;5;28;43mself\u001B[39;49m\u001B[38;5;241;43m.\u001B[39;49m\u001B[43m_get_value\u001B[49m\u001B[43m(\u001B[49m\u001B[43mkey\u001B[49m\u001B[43m)\u001B[49m\n\u001B[1;32m   1114\u001B[0m \u001B[38;5;66;03m# Convert generator to list before going through hashable part\u001B[39;00m\n\u001B[1;32m   1115\u001B[0m \u001B[38;5;66;03m# (We will iterate through the generator there to check for slices)\u001B[39;00m\n\u001B[1;32m   1116\u001B[0m \u001B[38;5;28;01mif\u001B[39;00m is_iterator(key):\n",
      "File \u001B[0;32m/Library/Frameworks/Python.framework/Versions/3.12/lib/python3.12/site-packages/pandas/core/series.py:1228\u001B[0m, in \u001B[0;36mSeries._get_value\u001B[0;34m(self, label, takeable)\u001B[0m\n\u001B[1;32m   1225\u001B[0m     \u001B[38;5;28;01mreturn\u001B[39;00m \u001B[38;5;28mself\u001B[39m\u001B[38;5;241m.\u001B[39m_values[label]\n\u001B[1;32m   1227\u001B[0m \u001B[38;5;66;03m# Similar to Index.get_value, but we do not fall back to positional\u001B[39;00m\n\u001B[0;32m-> 1228\u001B[0m loc \u001B[38;5;241m=\u001B[39m \u001B[38;5;28;43mself\u001B[39;49m\u001B[38;5;241;43m.\u001B[39;49m\u001B[43mindex\u001B[49m\u001B[38;5;241;43m.\u001B[39;49m\u001B[43mget_loc\u001B[49m\u001B[43m(\u001B[49m\u001B[43mlabel\u001B[49m\u001B[43m)\u001B[49m\n\u001B[1;32m   1230\u001B[0m \u001B[38;5;28;01mif\u001B[39;00m is_integer(loc):\n\u001B[1;32m   1231\u001B[0m     \u001B[38;5;28;01mreturn\u001B[39;00m \u001B[38;5;28mself\u001B[39m\u001B[38;5;241m.\u001B[39m_values[loc]\n",
      "File \u001B[0;32m/Library/Frameworks/Python.framework/Versions/3.12/lib/python3.12/site-packages/pandas/core/indexes/base.py:3812\u001B[0m, in \u001B[0;36mIndex.get_loc\u001B[0;34m(self, key)\u001B[0m\n\u001B[1;32m   3807\u001B[0m     \u001B[38;5;28;01mif\u001B[39;00m \u001B[38;5;28misinstance\u001B[39m(casted_key, \u001B[38;5;28mslice\u001B[39m) \u001B[38;5;129;01mor\u001B[39;00m (\n\u001B[1;32m   3808\u001B[0m         \u001B[38;5;28misinstance\u001B[39m(casted_key, abc\u001B[38;5;241m.\u001B[39mIterable)\n\u001B[1;32m   3809\u001B[0m         \u001B[38;5;129;01mand\u001B[39;00m \u001B[38;5;28many\u001B[39m(\u001B[38;5;28misinstance\u001B[39m(x, \u001B[38;5;28mslice\u001B[39m) \u001B[38;5;28;01mfor\u001B[39;00m x \u001B[38;5;129;01min\u001B[39;00m casted_key)\n\u001B[1;32m   3810\u001B[0m     ):\n\u001B[1;32m   3811\u001B[0m         \u001B[38;5;28;01mraise\u001B[39;00m InvalidIndexError(key)\n\u001B[0;32m-> 3812\u001B[0m     \u001B[38;5;28;01mraise\u001B[39;00m \u001B[38;5;167;01mKeyError\u001B[39;00m(key) \u001B[38;5;28;01mfrom\u001B[39;00m \u001B[38;5;21;01merr\u001B[39;00m\n\u001B[1;32m   3813\u001B[0m \u001B[38;5;28;01mexcept\u001B[39;00m \u001B[38;5;167;01mTypeError\u001B[39;00m:\n\u001B[1;32m   3814\u001B[0m     \u001B[38;5;66;03m# If we have a listlike key, _check_indexing_error will raise\u001B[39;00m\n\u001B[1;32m   3815\u001B[0m     \u001B[38;5;66;03m#  InvalidIndexError. Otherwise we fall through and re-raise\u001B[39;00m\n\u001B[1;32m   3816\u001B[0m     \u001B[38;5;66;03m#  the TypeError.\u001B[39;00m\n\u001B[1;32m   3817\u001B[0m     \u001B[38;5;28mself\u001B[39m\u001B[38;5;241m.\u001B[39m_check_indexing_error(key)\n",
      "\u001B[0;31mKeyError\u001B[0m: 'Text'"
     ]
    }
   ],
   "source": [],
   "metadata": {
    "collapsed": false,
    "ExecuteTime": {
     "end_time": "2024-05-10T13:48:53.010471Z",
     "start_time": "2024-05-10T13:48:52.936185Z"
    }
   },
   "id": "e84307b3d29d848c",
   "execution_count": 18
  },
  {
   "cell_type": "code",
   "outputs": [],
   "source": [
    "def train_model(model, data, targets):\n",
    "    \"\"\"\n",
    "    Train a model on the given data and targets.\n",
    "    \n",
    "    Parameters:\n",
    "    model (sklearn model): The model to be trained.\n",
    "    data (list of str): The input data.\n",
    "    targets (list of str): The targets.\n",
    "    \n",
    "    Returns:\n",
    "    Pipeline: The trained model as a Pipeline object.\n",
    "    \"\"\"\n",
    "    # Create a Pipeline object with a TfidfVectorizer and the given model\n",
    "    text_clf = Pipeline([('vect',TfidfVectorizer()),\n",
    "                         ('clf', model)])\n",
    "    # Fit the model on the data and targets\n",
    "    text_clf.fit(data, targets)\n",
    "    return text_clf"
   ],
   "metadata": {
    "collapsed": false,
    "ExecuteTime": {
     "end_time": "2024-05-10T13:49:37.786411Z",
     "start_time": "2024-05-10T13:49:37.780099Z"
    }
   },
   "id": "bf44da6662320b04",
   "execution_count": 19
  },
  {
   "cell_type": "code",
   "outputs": [],
   "source": [
    "def get_F1(trained_model,X,y):\n",
    "    \"\"\"\n",
    "    Get the F1 score for the given model on the given data and targets.\n",
    "    \n",
    "    Parameters:\n",
    "    trained_model (sklearn model): The trained model.\n",
    "    X (list of str): The input data.\n",
    "    y (list of str): The targets.\n",
    "    \n",
    "    Returns:\n",
    "    array: The F1 score for each class.\n",
    "    \"\"\"\n",
    "    # Make predictions on the input data using the trained model\n",
    "    predicted=trained_model.predict(X)\n",
    "    # Calculate the F1 score for the predictions\n",
    "    f1=f1_score(y,predicted, average=None)\n",
    "    # Return the F1 score\n",
    "    return f1"
   ],
   "metadata": {
    "collapsed": false,
    "ExecuteTime": {
     "end_time": "2024-05-10T13:49:39.269808Z",
     "start_time": "2024-05-10T13:49:39.265886Z"
    }
   },
   "id": "9144892f2c668d67",
   "execution_count": 20
  },
  {
   "cell_type": "code",
   "outputs": [],
   "source": [
    "log_reg = train_model(LogisticRegression(solver='liblinear',random_state = 0), X_train, y_train)\n"
   ],
   "metadata": {
    "collapsed": false,
    "ExecuteTime": {
     "end_time": "2024-05-10T13:49:41.256223Z",
     "start_time": "2024-05-10T13:49:40.364706Z"
    }
   },
   "id": "6d1e365f2bc03f9f",
   "execution_count": 21
  },
  {
   "cell_type": "code",
   "outputs": [
    {
     "data": {
      "text/plain": "array(['Korku'], dtype=object)"
     },
     "execution_count": 30,
     "metadata": {},
     "output_type": "execute_result"
    }
   ],
   "source": [
    "y_pred=log_reg.predict(['yarın okulda ödevim var'])\n",
    "y_pred"
   ],
   "metadata": {
    "collapsed": false,
    "ExecuteTime": {
     "end_time": "2024-05-10T13:52:01.136105Z",
     "start_time": "2024-05-10T13:52:01.122435Z"
    }
   },
   "id": "f35bba932e3ffdd3",
   "execution_count": 30
  },
  {
   "cell_type": "code",
   "outputs": [
    {
     "name": "stdout",
     "output_type": "stream",
     "text": [
      "Accuracy:  0.8076782449725777 \n"
     ]
    }
   ],
   "source": [
    "y_pred=log_reg.predict(X_test)\n",
    "\n",
    "#calculate the accuracy\n",
    "log_reg_accuracy = accuracy_score(y_test, y_pred)\n",
    "print('Accuracy: ', log_reg_accuracy,'\\n')\n",
    "\n",
    "#calculate the F1 score\n",
    "f1_Score = get_F1(log_reg,X_test,y_test)"
   ],
   "metadata": {
    "collapsed": false,
    "ExecuteTime": {
     "end_time": "2024-05-10T13:50:56.731524Z",
     "start_time": "2024-05-10T13:50:56.641662Z"
    }
   },
   "id": "d3fcff09b1187ab0",
   "execution_count": 28
  },
  {
   "cell_type": "code",
   "outputs": [],
   "source": [],
   "metadata": {
    "collapsed": false
   },
   "id": "cf280f558147c2ca"
  }
 ],
 "metadata": {
  "kernelspec": {
   "display_name": "Python 3 (ipykernel)",
   "language": "python",
   "name": "python3"
  },
  "language_info": {
   "codemirror_mode": {
    "name": "ipython",
    "version": 3
   },
   "file_extension": ".py",
   "mimetype": "text/x-python",
   "name": "python",
   "nbconvert_exporter": "python",
   "pygments_lexer": "ipython3",
   "version": "3.12.1"
  }
 },
 "nbformat": 4,
 "nbformat_minor": 5
}
